{
 "metadata": {
  "name": "",
  "signature": "sha256:a1144b7458c87f6b3d96eb485b4189ef6e6539ad02552a0620cbab68cd3c0ea7"
 },
 "nbformat": 3,
 "nbformat_minor": 0,
 "worksheets": [
  {
   "cells": [
    {
     "cell_type": "code",
     "collapsed": false,
     "input": [
      "# -*- coding: utf-8 -*-\n",
      "%pylab inline \n",
      "import numpy as np\n",
      "%pylab --no-import-all\n",
      "from matplotlib.pyplot import *\n",
      "from numpy import *\n",
      "import math\n",
      "from scipy import stats\n",
      "%matplotlib inline\n",
      "figsize(7,7)"
     ],
     "language": "python",
     "metadata": {},
     "outputs": [
      {
       "output_type": "stream",
       "stream": "stdout",
       "text": [
        "Populating the interactive namespace from numpy and matplotlib\n",
        "Using matplotlib backend: TkAgg\n",
        "Populating the interactive namespace from numpy and matplotlib\n"
       ]
      },
      {
       "output_type": "stream",
       "stream": "stderr",
       "text": [
        "WARNING: pylab import has clobbered these variables: ['draw_if_interactive', 'new_figure_manager']\n",
        "`%matplotlib` prevents importing * from pylab and numpy\n"
       ]
      }
     ],
     "prompt_number": 8
    },
    {
     "cell_type": "code",
     "collapsed": false,
     "input": [
      "#Se importan datos\n",
      "data = np.loadtxt(\"KBETA\")\n",
      "U=data[:,0]\n",
      "INT= data[:,1]\n",
      "U"
     ],
     "language": "python",
     "metadata": {},
     "outputs": [
      {
       "metadata": {},
       "output_type": "pyout",
       "prompt_number": 9,
       "text": [
        "array([   5.17278728,   14.66388275,   26.95951013,   41.52246278,\n",
        "         58.04247276,   76.31026388,   96.17223145,  117.50937763,\n",
        "        140.2259732 ])"
       ]
      }
     ],
     "prompt_number": 9
    },
    {
     "cell_type": "code",
     "collapsed": false,
     "input": [
      "#C\u00e1lculo de incertidumbres\n",
      "err_y=[]\n",
      "err_x=[]\n",
      "for i in range(len(U)):\n",
      "    error_x=1\n",
      "    err_x.append(error_x)"
     ],
     "language": "python",
     "metadata": {},
     "outputs": [],
     "prompt_number": 10
    },
    {
     "cell_type": "code",
     "collapsed": false,
     "input": [
      "m, b, r_value, p_value, std_err = stats.linregress(U,INT)\n",
      "m,b,r_value**2,  std_err"
     ],
     "language": "python",
     "metadata": {},
     "outputs": [
      {
       "metadata": {},
       "output_type": "pyout",
       "prompt_number": 11,
       "text": [
        "(54.477556944905764,\n",
        " -78.95702533888425,\n",
        " 0.98395890771386518,\n",
        " 2.6290393785645998)"
       ]
      }
     ],
     "prompt_number": 11
    },
    {
     "cell_type": "code",
     "collapsed": false,
     "input": [
      "fig, ax = subplots()\n",
      "ylabel('Intensidad $Imp/s$', fontsize=20)\n",
      "xlabel('$V(KV$)', fontsize=20)\n",
      "for i in range(len(U)):\n",
      "    errorbar(U[i], INT[i], xerr=err_x[i], yerr=1,capsize=15,color=\"r\",fmt='o')\n",
      "x=arange(0.03, 140,0.001)\n",
      "y=x*m+b\n",
      "ax.text(0.025, 0.2, r\"$y=0.5579x+0.0335$\", fontsize=18, color=\"black\")\n",
      "ax.text(0.025, 0.18, r\"$r^2=0.98$\", fontsize=18, color=\"black\")\n",
      "\n",
      "plot(x, y, color='k')\n",
      "ax.legend(loc=2);\n",
      "ax.legend(loc=2);\n"
     ],
     "language": "python",
     "metadata": {},
     "outputs": [
      {
       "output_type": "stream",
       "stream": "stderr",
       "text": [
        "/usr/lib/python2.7/dist-packages/matplotlib/axes/_axes.py:519: UserWarning: No labelled objects found. Use label='...' kwarg on individual plots.\n",
        "  warnings.warn(\"No labelled objects found. \"\n"
       ]
      },
      {
       "metadata": {},
       "output_type": "display_data",
       "png": "[encoded data removed]",
       "text": [
        "<matplotlib.figure.Figure at 0x7f21ad25ca10>"
       ]
      }
     ],
     "prompt_number": 7
    },
    {
     "cell_type": "code",
     "collapsed": false,
     "input": [
      "\n",
      "\n",
      "\n"
     ],
     "language": "python",
     "metadata": {},
     "outputs": [],
     "prompt_number": 7
    },
    {
     "cell_type": "code",
     "collapsed": false,
     "input": [],
     "language": "python",
     "metadata": {},
     "outputs": []
    }
   ],
   "metadata": {}
  }
 ]
}