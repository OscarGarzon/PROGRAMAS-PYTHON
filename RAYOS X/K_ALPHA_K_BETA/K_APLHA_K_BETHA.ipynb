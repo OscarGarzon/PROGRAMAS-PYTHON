{
 "metadata": {
  "name": "",
  "signature": "sha256:256383c5ccdc476d169a2e0dbee1dd452f07d7e24b5bee99d20c8a8a4c3ca2bc"
 },
 "nbformat": 3,
 "nbformat_minor": 0,
 "worksheets": [
  {
   "cells": [
    {
     "cell_type": "code",
     "collapsed": false,
     "input": [
      "%pylab inline \n",
      "import numpy as np\n",
      "%pylab --no-import-all\n",
      "from matplotlib.pyplot import *\n",
      "from numpy import *\n",
      "import math\n",
      "import pylab as pl\n",
      "from scipy import stats\n",
      "%matplotlib inline\n",
      "figsize(7,7)"
     ],
     "language": "python",
     "metadata": {},
     "outputs": [
      {
       "output_type": "stream",
       "stream": "stdout",
       "text": [
        "Populating the interactive namespace from numpy and matplotlib\n",
        "Using matplotlib backend: TkAgg\n",
        "Populating the interactive namespace from numpy and matplotlib\n"
       ]
      }
     ],
     "prompt_number": 1
    },
    {
     "cell_type": "code",
     "collapsed": false,
     "input": [],
     "language": "python",
     "metadata": {},
     "outputs": []
    }
   ],
   "metadata": {}
  }
 ]
}