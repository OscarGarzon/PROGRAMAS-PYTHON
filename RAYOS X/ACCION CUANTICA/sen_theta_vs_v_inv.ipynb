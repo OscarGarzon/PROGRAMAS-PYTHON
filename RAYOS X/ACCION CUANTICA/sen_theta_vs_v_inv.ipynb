{
 "metadata": {
  "name": "",
  "signature": "sha256:c00ace83bdb881e5e1819d4dbfdaace955cac8976bffd22f7b9bf2cfc025a6fa"
 },
 "nbformat": 3,
 "nbformat_minor": 0,
 "worksheets": [
  {
   "cells": [
    {
     "cell_type": "code",
     "collapsed": false,
     "input": [
      "# -*- coding: utf-8 -*-\n",
      "%pylab inline \n",
      "import numpy as np\n",
      "%pylab --no-import-all\n",
      "from matplotlib.pyplot import *\n",
      "from numpy import *\n",
      "import math\n",
      "from scipy import stats\n",
      "%matplotlib inline\n",
      "figsize(7,7)"
     ],
     "language": "python",
     "metadata": {},
     "outputs": [
      {
       "output_type": "stream",
       "stream": "stdout",
       "text": [
        "Populating the interactive namespace from numpy and matplotlib\n",
        "Using matplotlib backend: TkAgg"
       ]
      },
      {
       "output_type": "stream",
       "stream": "stdout",
       "text": [
        "\n",
        "Populating the interactive namespace from numpy and matplotlib\n"
       ]
      },
      {
       "output_type": "stream",
       "stream": "stderr",
       "text": [
        "WARNING: pylab import has clobbered these variables: ['draw_if_interactive', 'new_figure_manager']\n",
        "`%matplotlib` prevents importing * from pylab and numpy\n"
       ]
      }
     ],
     "prompt_number": 52
    },
    {
     "cell_type": "code",
     "collapsed": false,
     "input": [
      "#Se importan datos\n",
      "data = np.loadtxt(\"seno_theta_vs_u_inverso.txt\")\n",
      "U_INVERSO=data[:,0]\n",
      "SEN_THETA= data[:,1]"
     ],
     "language": "python",
     "metadata": {},
     "outputs": [],
     "prompt_number": 53
    },
    {
     "cell_type": "code",
     "collapsed": false,
     "input": [
      "#C\u00e1lculo de incertidumbres\n",
      "err_y=[]\n",
      "err_x=[]\n",
      "for i in range(len(SEN_THETA)):\n",
      "    theta=0\n",
      "    theta=math.asin(SEN_THETA[i])\n",
      "    error_y= abs(cos(theta))*0.0174533\n",
      "    err_y.append(error_y)\n",
      "for i in range(len(U_INVERSO)):\n",
      "    error_x=((U_INVERSO[i])**2)*(0.1)\n",
      "    err_x.append(error_x)\n",
      "err_y"
     ],
     "language": "python",
     "metadata": {},
     "outputs": [
      {
       "metadata": {},
       "output_type": "pyout",
       "prompt_number": 54,
       "text": [
        "[0.017364051253300341,\n",
        " 0.017357741202710133,\n",
        " 0.017337707899855549,\n",
        " 0.01731197569068664,\n",
        " 0.017291856512573422,\n",
        " 0.017257155025313074,\n",
        " 0.017223899796078045]"
       ]
      }
     ],
     "prompt_number": 54
    },
    {
     "cell_type": "code",
     "collapsed": false,
     "input": [
      "m, b, r_value, p_value, std_err = stats.linregress(U_INVERSO,SEN_THETA)\n",
      "m,b,r_value**2,  std_err"
     ],
     "language": "python",
     "metadata": {},
     "outputs": [
      {
       "metadata": {},
       "output_type": "pyout",
       "prompt_number": 55,
       "text": [
        "(1.708396415736378,\n",
        " 0.033502829718222132,\n",
        " 0.98626403303603782,\n",
        " 0.090164726661323025)"
       ]
      }
     ],
     "prompt_number": 55
    },
    {
     "cell_type": "code",
     "collapsed": false,
     "input": [
      "fig, ax = subplots()\n",
      "ylabel('$Sen(\\Theta)$', fontsize=20)\n",
      "xlabel('$1/U$ ($1/KV$)', fontsize=20)\n",
      "\n",
      "for i in range(len(SEN_THETA)):\n",
      "    errorbar(U_INVERSO[i], SEN_THETA[i], xerr=err_x[i], yerr=err_y[i],capsize=15,color=\"r\",fmt='o')\n",
      "\n",
      "x=arange(0.03, 0.1,0.001)\n",
      "y=x*m+b\n",
      "\n",
      "plot(x, y, color='k')\n",
      "ax.text(0.025, 0.18, r\"$r^2=0.98$\", fontsize=18, color=\"black\")\n",
      "ax.text(0.025, 0.2, r\"$y=1.7083x+0.0335$\", fontsize=18, color=\"black\")\n",
      "ax.legend(loc=2);\n",
      "ax.legend(loc=2);\n",
      "\n",
      "\n"
     ],
     "language": "python",
     "metadata": {},
     "outputs": [
      {
       "metadata": {},
       "output_type": "display_data",
       "png": "[encoded data removed]",
       "text": [
        "<matplotlib.figure.Figure at 0x7f7f52d131d0>"
       ]
      }
     ],
     "prompt_number": 56
    },
    {
     "cell_type": "code",
     "collapsed": false,
     "input": [
      "fig.savefig(\"SEN_THETA_VS_U_INV.png\")"
     ],
     "language": "python",
     "metadata": {},
     "outputs": [],
     "prompt_number": 57
    },
    {
     "cell_type": "code",
     "collapsed": false,
     "input": [
      "h=(m*2*10**(3))*(1.602*10**(-19))*(201.4*10**(-12))/(3*10**(8))\n",
      "h"
     ],
     "language": "python",
     "metadata": {},
     "outputs": [
      {
       "metadata": {},
       "output_type": "pyout",
       "prompt_number": 58,
       "text": [
        "3.674678687220994e-34"
       ]
      }
     ],
     "prompt_number": 58
    },
    {
     "cell_type": "code",
     "collapsed": false,
     "input": [
      "#c\u00e1lculo error h\n",
      "(std_err*2*10**(3))*(1.602*10**(-19))*(201.4*10**(-12))/(3*10**(8))"
     ],
     "language": "python",
     "metadata": {},
     "outputs": [
      {
       "metadata": {},
       "output_type": "pyout",
       "prompt_number": 59,
       "text": [
        "1.9393999914162608e-35"
       ]
      }
     ],
     "prompt_number": 59
    },
    {
     "cell_type": "code",
     "collapsed": false,
     "input": [],
     "language": "python",
     "metadata": {},
     "outputs": [],
     "prompt_number": 58
    },
    {
     "cell_type": "code",
     "collapsed": false,
     "input": [],
     "language": "python",
     "metadata": {},
     "outputs": []
    }
   ],
   "metadata": {}
  }
 ]
}