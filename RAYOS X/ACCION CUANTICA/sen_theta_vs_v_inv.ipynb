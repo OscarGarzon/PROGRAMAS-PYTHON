{
 "metadata": {
  "name": "",
  "signature": "sha256:754b71d8e48fd6aa8cb98af7d1c3f6dcd5fa5a8cae4947745b45a5a48f954df4"
 },
 "nbformat": 3,
 "nbformat_minor": 0,
 "worksheets": [
  {
   "cells": [
    {
     "cell_type": "code",
     "collapsed": false,
     "input": [
      "# -*- coding: utf-8 -*-\n",
      "%pylab inline \n",
      "import numpy as np\n",
      "%pylab --no-import-all\n",
      "from matplotlib.pyplot import *\n",
      "from numpy import *\n",
      "import math\n",
      "from scipy import stats\n",
      "%matplotlib inline\n",
      "figsize(7,7)"
     ],
     "language": "python",
     "metadata": {},
     "outputs": [
      {
       "output_type": "stream",
       "stream": "stdout",
       "text": [
        "Populating the interactive namespace from numpy and matplotlib\n",
        "Using matplotlib backend: TkAgg\n",
        "Populating the interactive namespace from numpy and matplotlib\n"
       ]
      }
     ],
     "prompt_number": 2
    },
    {
     "cell_type": "code",
     "collapsed": false,
     "input": [
      "#Se importan datos\n",
      "data = np.loadtxt(\"seno_theta_vs_u_inverso.txt\")\n",
      "U_INVERSO=data[:,0]\n",
      "SEN_THETA= data[:,1]"
     ],
     "language": "python",
     "metadata": {},
     "outputs": [],
     "prompt_number": 3
    },
    {
     "cell_type": "code",
     "collapsed": false,
     "input": [
      "#C\u00e1lculo de incertidumbres\n",
      "err_y=[]\n",
      "err_x=[]\n",
      "for i in range(len(SEN_THETA)):\n",
      "    theta=0\n",
      "    theta=math.asin(SEN_THETA[i])\n",
      "    error_y= abs(cos(theta))*0.0174533\n",
      "    err_y.append(error_y)\n",
      "for i in range(len(U_INVERSO)):\n",
      "    error_x=((U_INVERSO[i])**2)*(0.2)\n",
      "    err_x.append(error_x)\n",
      "err_y"
     ],
     "language": "python",
     "metadata": {},
     "outputs": [
      {
       "metadata": {},
       "output_type": "pyout",
       "prompt_number": 4,
       "text": [
        "[0.017364051253300341,\n",
        " 0.017357741202710133,\n",
        " 0.017337707899855549,\n",
        " 0.01731197569068664,\n",
        " 0.017291856512573422,\n",
        " 0.017257155025313074,\n",
        " 0.017223899796078045]"
       ]
      }
     ],
     "prompt_number": 4
    },
    {
     "cell_type": "code",
     "collapsed": false,
     "input": [
      "m, b, r_value, p_value, std_err = stats.linregress(U_INVERSO,SEN_THETA)\n",
      "m,b,r_value**2,  std_err"
     ],
     "language": "python",
     "metadata": {},
     "outputs": [
      {
       "metadata": {},
       "output_type": "pyout",
       "prompt_number": 5,
       "text": [
        "(1.708396415736378,\n",
        " 0.033502829718222132,\n",
        " 0.98626403303603782,\n",
        " 0.090164726661323025)"
       ]
      }
     ],
     "prompt_number": 5
    },
    {
     "cell_type": "code",
     "collapsed": false,
     "input": [
      "fig, ax = subplots()\n",
      "ylabel('$Sen(\\Theta)$', fontsize=20)\n",
      "xlabel('$1/U$ ($1/KV$)', fontsize=20)\n",
      "\n",
      "for i in range(len(SEN_THETA)):\n",
      "    errorbar(U_INVERSO[i], SEN_THETA[i], xerr=err_x[i], yerr=err_y[i],capsize=15,color=\"r\",fmt='o')\n",
      "\n",
      "x=arange(0.03, 0.1,0.001)\n",
      "y=x*m+b\n",
      "\n",
      "plot(x, y, color='k')\n",
      "ax.text(0.025, 0.18, r\"$r^2=0.98$\", fontsize=18, color=\"black\")\n",
      "ax.text(0.025, 0.2, r\"$y=1.7083x+0.0335$\", fontsize=18, color=\"black\")\n",
      "ax.legend(loc=2);\n",
      "ax.legend(loc=2);\n",
      "\n",
      "\n"
     ],
     "language": "python",
     "metadata": {},
     "outputs": [
      {
       "output_type": "stream",
       "stream": "stderr",
       "text": [
        "/usr/lib/python2.7/dist-packages/matplotlib/axes/_axes.py:519: UserWarning: No labelled objects found. Use label='...' kwarg on individual plots.\n",
        "  warnings.warn(\"No labelled objects found. \"\n"
       ]
      },
      {
       "metadata": {},
       "output_type": "display_data",
       "png": "[encoded data removed]",
       "text": [
        "<matplotlib.figure.Figure at 0x7f0efa5df3d0>"
       ]
      }
     ],
     "prompt_number": 6
    },
    {
     "cell_type": "code",
     "collapsed": false,
     "input": [
      "fig.savefig(\"SEN_THETA_VS_U_INV.png\")"
     ],
     "language": "python",
     "metadata": {},
     "outputs": [],
     "prompt_number": 7
    },
    {
     "cell_type": "code",
     "collapsed": false,
     "input": [
      "h=(m*2*10**(3))*(1.602*10**(-19))*(201.4*10**(-12))/(3*10**(8))\n",
      "h"
     ],
     "language": "python",
     "metadata": {},
     "outputs": [
      {
       "metadata": {},
       "output_type": "pyout",
       "prompt_number": 11,
       "text": [
        "3.674678687220994e-34"
       ]
      }
     ],
     "prompt_number": 11
    },
    {
     "cell_type": "code",
     "collapsed": false,
     "input": [
      "#c\u00e1lculo error h\n",
      "(std_err*2*10**(3))*(1.602*10**(-19))*(201.4*10**(-12))/(3*10**(8))"
     ],
     "language": "python",
     "metadata": {},
     "outputs": [
      {
       "metadata": {},
       "output_type": "pyout",
       "prompt_number": 12,
       "text": [
        "1.9393999914162608e-35"
       ]
      }
     ],
     "prompt_number": 12
    },
    {
     "cell_type": "code",
     "collapsed": false,
     "input": [
      "FACTOR=6.2415093433*(10**(18))\n",
      "theta_1=0.3944444\n",
      "sin(theta_1)\n",
      "d=201.4*10**(-12)\n",
      "h=6.62606957*(10**(-34))\n",
      "c=3*(10**8)\n",
      "E=h*c*FACTOR/(2*d*sin(theta_1))\n",
      "E"
     ],
     "language": "python",
     "metadata": {},
     "outputs": [
      {
       "metadata": {},
       "output_type": "pyout",
       "prompt_number": 24,
       "text": [
        "8015.1623218675022"
       ]
      }
     ],
     "prompt_number": 24
    },
    {
     "cell_type": "code",
     "collapsed": false,
     "input": [
      "#incertidumbre EN ENERGIA\n",
      "DELTA_E=(h*c/(2*d))*FACTOR*(1/tan(theta_1))*(1/sin(theta_1))*0.0174533\n",
      "DELTA_E\n",
      "418.89831075"
     ],
     "language": "python",
     "metadata": {},
     "outputs": [
      {
       "metadata": {},
       "output_type": "pyout",
       "prompt_number": 25,
       "text": [
        "418.89831075"
       ]
      }
     ],
     "prompt_number": 25
    },
    {
     "cell_type": "code",
     "collapsed": false,
     "input": [
      "#errores\n",
      "\n",
      "(8.009-8.015)*100/8.009"
     ],
     "language": "python",
     "metadata": {},
     "outputs": [
      {
       "metadata": {},
       "output_type": "pyout",
       "prompt_number": 28,
       "text": [
        "-0.07491571981521072"
       ]
      }
     ],
     "prompt_number": 28
    },
    {
     "cell_type": "code",
     "collapsed": false,
     "input": [
      "(6.626069*10**()-3.674678)*100/6.626069"
     ],
     "language": "python",
     "metadata": {},
     "outputs": [
      {
       "metadata": {},
       "output_type": "pyout",
       "prompt_number": 30,
       "text": [
        "44.542110865431674"
       ]
      }
     ],
     "prompt_number": 30
    },
    {
     "cell_type": "code",
     "collapsed": false,
     "input": [],
     "language": "python",
     "metadata": {},
     "outputs": []
    }
   ],
   "metadata": {}
  }
 ]
}