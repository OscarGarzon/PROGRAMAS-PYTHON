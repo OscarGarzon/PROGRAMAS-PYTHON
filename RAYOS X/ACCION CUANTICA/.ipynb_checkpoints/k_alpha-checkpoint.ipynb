{
 "metadata": {
  "name": "",
  "signature": "sha256:1bb756030d01cb0e3b2997d9374b8cfa1eccc3cea694083b220a0f1891820b9a"
 },
 "nbformat": 3,
 "nbformat_minor": 0,
 "worksheets": [
  {
   "cells": [
    {
     "cell_type": "code",
     "collapsed": false,
     "input": [],
     "language": "python",
     "metadata": {},
     "outputs": []
    }
   ],
   "metadata": {}
  }
 ]
}