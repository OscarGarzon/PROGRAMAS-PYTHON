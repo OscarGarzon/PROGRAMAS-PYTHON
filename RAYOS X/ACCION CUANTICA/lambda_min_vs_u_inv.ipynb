{
 "metadata": {
  "name": "",
  "signature": "sha256:d6229df7caba29091801c0187b573e0a7e01f857863392cad98476ab850c6698"
 },
 "nbformat": 3,
 "nbformat_minor": 0,
 "worksheets": [
  {
   "cells": [
    {
     "cell_type": "code",
     "collapsed": false,
     "input": [
      "# -*- coding: utf-8 -*-\n",
      "%pylab inline \n",
      "import numpy as np\n",
      "%pylab --no-import-all\n",
      "from matplotlib.pyplot import *\n",
      "from numpy import *\n",
      "import math\n",
      "import pylab as pl\n",
      "from scipy import stats\n",
      "%matplotlib inline\n",
      "figsize(7,7)"
     ],
     "language": "python",
     "metadata": {},
     "outputs": [
      {
       "output_type": "stream",
       "stream": "stdout",
       "text": [
        "Populating the interactive namespace from numpy and matplotlib\n",
        "Using matplotlib backend: TkAgg\n",
        "Populating the interactive namespace from numpy and matplotlib\n"
       ]
      },
      {
       "output_type": "stream",
       "stream": "stderr",
       "text": [
        "WARNING: pylab import has clobbered these variables: ['draw_if_interactive', 'new_figure_manager']\n",
        "`%matplotlib` prevents importing * from pylab and numpy\n"
       ]
      }
     ],
     "prompt_number": 29
    },
    {
     "cell_type": "code",
     "collapsed": false,
     "input": [
      "#Se importan datos\n",
      "d=201.4*10**(-12)\n",
      "data = np.loadtxt(\"lambda_min_vs_u_inverso.txt\")\n",
      "data_2=np.loadtxt(\"seno_theta_vs_u_inverso.txt\")\n",
      "SEN_THETA= data_2[:,1]\n",
      "U_INVERSO=data[:,0]\n",
      "lambda_min=[]\n",
      "for i in range (len(SEN_THETA)):\n",
      "    lambda_min.append(4*(d)*(SEN_THETA[i]))\n",
      "    \n",
      "lambda_min, U_INVERSO"
     ],
     "language": "python",
     "metadata": {},
     "outputs": [
      {
       "metadata": {},
       "output_type": "pyout",
       "prompt_number": 30,
       "text": [
        "([8.1365600000000005e-11,\n",
        "  8.4185199999999991e-11,\n",
        "  9.2563439999999997e-11,\n",
        "  1.023112e-10,\n",
        "  1.0931991999999998e-10,\n",
        "  1.2043719999999999e-10,\n",
        "  1.3018496e-10],\n",
        " array([ 0.04   ,  0.04348,  0.04762,  0.05263,  0.05882,  0.06667,  0.07692]))"
       ]
      }
     ],
     "prompt_number": 30
    },
    {
     "cell_type": "code",
     "collapsed": false,
     "input": [
      "#C\u00e1lculo de incertidumbres\n",
      "err_y=[]\n",
      "err_x=[]\n",
      "err_lambda=[]\n",
      "for i in range(len(SEN_THETA)):\n",
      "    theta=0\n",
      "    theta=math.asin(SEN_THETA[i])\n",
      "    error_y= abs(cos(theta))*0.0174533\n",
      "    err_y.append(error_y)\n",
      "for i in range(len(lambda_min)):\n",
      "    error_lam= err_y[i]*2*d\n",
      "    err_lambda.append(error_lam)\n",
      "for i in range(len(U_INVERSO)):\n",
      "    error_x=((U_INVERSO[i])**2)*(0.1)\n",
      "    err_x.append(error_x)\n",
      "err_lambda"
     ],
     "language": "python",
     "metadata": {},
     "outputs": [
      {
       "metadata": {},
       "output_type": "pyout",
       "prompt_number": 31,
       "text": [
        "[6.994239844829377e-12,\n",
        " 6.9916981564516416e-12,\n",
        " 6.9836287420618149e-12,\n",
        " 6.9732638082085784e-12,\n",
        " 6.9651598032645746e-12,\n",
        " 6.9511820441961065e-12,\n",
        " 6.9377868378602362e-12]"
       ]
      }
     ],
     "prompt_number": 31
    },
    {
     "cell_type": "code",
     "collapsed": false,
     "input": [
      "m, b, r_value, p_value, std_err = stats.linregress(U_INVERSO,lambda_min)\n",
      "m,b,r_value**2,std_err"
     ],
     "language": "python",
     "metadata": {},
     "outputs": [
      {
       "metadata": {},
       "output_type": "pyout",
       "prompt_number": 37,
       "text": [
        "(1.3762841525172264e-09,\n",
        " 2.6989879620999748e-11,\n",
        " 0.98626403303603805,\n",
        " 7.2636703798361275e-11)"
       ]
      }
     ],
     "prompt_number": 37
    },
    {
     "cell_type": "code",
     "collapsed": false,
     "input": [
      "fig, ax = subplots()\n",
      "ylabel('$\\lambda_{min}$' '$(pm)$', fontsize=20)\n",
      "xlabel('$1/U$ ($1/KV$)', fontsize=20)\n",
      "\n",
      "for i in range(len(lambda_min)):\n",
      "    \n",
      "    errorbar(U_INVERSO[i], lambda_min[i], xerr=err_x[i], yerr=err_lambda[i],capsize=25,color='g',fmt='o')\n",
      "x=arange(0.03, 0.0851,0.001)\n",
      "y=x*m+b\n",
      "xlim(0.03, 0.0851)\n",
      "plot(x, y, color='k')  \n",
      "pl.yticks([3.5*10**(-11),5.5*10**(-11),7.5*10**(-11),9.5*10**(-11),11.5*10**(-11),13.5*10**(-11),15.5*10**(-11) ],\n",
      "          [r'$35$', r'$55$', r'$75$',r'$95$',r'$115$',r'$135$',r'$155$'],fontsize=20)\n",
      "pl.xticks([0.03,0.04,0.05,0.06,0.07,0.08],[r'$0.03$',r'$0.04$',r'$0.05$',r'$0.06$',r'$0.07$',r'$0.08$'], fontsize=20)\n",
      "ax.text(0.033, 12*10**(-11), r\"$r^2=0.98$\", fontsize=18, color=\"black\")\n",
      "ax.text(0.033, 13*10**(-11), r\"$y=1376.2x+0.026$\", fontsize=18, color=\"black\")\n",
      "ax.legend(loc=2);\n",
      "ax.legend(loc=2);"
     ],
     "language": "python",
     "metadata": {},
     "outputs": [
      {
       "metadata": {},
       "output_type": "display_data",
       "png": "[encoded data removed]",
       "text": [
        "<matplotlib.figure.Figure at 0x7fefc25982d0>"
       ]
      }
     ],
     "prompt_number": 33
    },
    {
     "cell_type": "code",
     "collapsed": false,
     "input": [
      "fig.savefig(\"lambda_min_VS_U_INV.png\")"
     ],
     "language": "python",
     "metadata": {},
     "outputs": [],
     "prompt_number": 34
    },
    {
     "cell_type": "code",
     "collapsed": false,
     "input": [
      "h=(1241.56*2*10**(-9))*(1.602*10**(-19))*(201.4*10**(-12))/(3*10**(8))\n",
      "h"
     ],
     "language": "python",
     "metadata": {},
     "outputs": [
      {
       "metadata": {},
       "output_type": "pyout",
       "prompt_number": 35,
       "text": [
        "2.67053596512e-43"
       ]
      }
     ],
     "prompt_number": 35
    },
    {
     "cell_type": "code",
     "collapsed": false,
     "input": [
      "m"
     ],
     "language": "python",
     "metadata": {},
     "outputs": [
      {
       "metadata": {},
       "output_type": "pyout",
       "prompt_number": 36,
       "text": [
        "1.3762841525172264e-09"
       ]
      }
     ],
     "prompt_number": 36
    },
    {
     "cell_type": "code",
     "collapsed": false,
     "input": [],
     "language": "python",
     "metadata": {},
     "outputs": [],
     "prompt_number": 36
    },
    {
     "cell_type": "code",
     "collapsed": false,
     "input": [],
     "language": "python",
     "metadata": {},
     "outputs": []
    }
   ],
   "metadata": {}
  }
 ]
}