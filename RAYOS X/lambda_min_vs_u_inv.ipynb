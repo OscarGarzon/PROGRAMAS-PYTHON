{
 "metadata": {
  "name": "",
  "signature": "sha256:28dc0343f99abca1282e21d6115933d316946ab55e8bb4b40760c55422b1ecf6"
 },
 "nbformat": 3,
 "nbformat_minor": 0,
 "worksheets": [
  {
   "cells": [
    {
     "cell_type": "code",
     "collapsed": false,
     "input": [
      "# -*- coding: utf-8 -*-\n",
      "%pylab inline \n",
      "import numpy as np\n",
      "%pylab --no-import-all\n",
      "from matplotlib.pyplot import *\n",
      "from numpy import *\n",
      "import math\n",
      "import pylab as pl\n",
      "from scipy import stats\n",
      "%matplotlib inline\n",
      "figsize(7,7)"
     ],
     "language": "python",
     "metadata": {},
     "outputs": [
      {
       "output_type": "stream",
       "stream": "stdout",
       "text": [
        "Populating the interactive namespace from numpy and matplotlib\n",
        "Using matplotlib backend: TkAgg\n",
        "Populating the interactive namespace from numpy and matplotlib\n"
       ]
      },
      {
       "output_type": "stream",
       "stream": "stderr",
       "text": [
        "WARNING: pylab import has clobbered these variables: ['draw_if_interactive', 'new_figure_manager']\n",
        "`%matplotlib` prevents importing * from pylab and numpy\n"
       ]
      }
     ],
     "prompt_number": 34
    },
    {
     "cell_type": "code",
     "collapsed": false,
     "input": [
      "#Se importan datos\n",
      "d=201.4*10**(-12)\n",
      "data = np.loadtxt(\"lambda_min_vs_u_inverso.txt\")\n",
      "data_2=np.loadtxt(\"seno_theta_vs_u_inverso.txt\")\n",
      "SEN_THETA= data_2[:,1]\n",
      "U_INVERSO=data[:,0]\n",
      "lambda_min=[]\n",
      "for i in range (len(SEN_THETA)):\n",
      "    lambda_min.append(2*(d)*(SEN_THETA[i]))\n",
      "    \n",
      "lambda_min"
     ],
     "language": "python",
     "metadata": {},
     "outputs": [
      {
       "metadata": {},
       "output_type": "pyout",
       "prompt_number": 35,
       "text": [
        "[4.0682800000000003e-11,\n",
        " 4.2092599999999995e-11,\n",
        " 4.6281719999999998e-11,\n",
        " 5.1155600000000001e-11,\n",
        " 5.4659959999999992e-11,\n",
        " 6.0218599999999993e-11,\n",
        " 6.5092480000000002e-11]"
       ]
      }
     ],
     "prompt_number": 35
    },
    {
     "cell_type": "code",
     "collapsed": false,
     "input": [
      "#C\u00e1lculo de incertidumbres\n",
      "err_y=[]\n",
      "err_x=[]\n",
      "err_lambda=[]\n",
      "for i in range(len(SEN_THETA)):\n",
      "    theta=0\n",
      "    theta=math.asin(SEN_THETA[i])\n",
      "    error_y= abs(cos(theta))*0.0174533\n",
      "    err_y.append(error_y)\n",
      "for i in range(len(lambda_min)):\n",
      "    error_lam= err_y[i]*2*d\n",
      "    err_lambda.append(error_lam)\n",
      "for i in range(len(U_INVERSO)):\n",
      "    error_x=((U_INVERSO[i])**2)*(0.1)\n",
      "    err_x.append(error_x)\n",
      "err_lambda"
     ],
     "language": "python",
     "metadata": {},
     "outputs": [
      {
       "metadata": {},
       "output_type": "pyout",
       "prompt_number": 36,
       "text": [
        "[6.994239844829377e-12,\n",
        " 6.9916981564516416e-12,\n",
        " 6.9836287420618149e-12,\n",
        " 6.9732638082085784e-12,\n",
        " 6.9651598032645746e-12,\n",
        " 6.9511820441961065e-12,\n",
        " 6.9377868378602362e-12]"
       ]
      }
     ],
     "prompt_number": 36
    },
    {
     "cell_type": "code",
     "collapsed": false,
     "input": [
      "m, b, r_value, p_value, std_err = stats.linregress(U_INVERSO,lambda_min)\n",
      "m,b,r_value**2"
     ],
     "language": "python",
     "metadata": {},
     "outputs": [
      {
       "metadata": {},
       "output_type": "pyout",
       "prompt_number": 37,
       "text": [
        "(6.8814207625861321e-10, 1.3494939810499874e-11, 0.98626403303603805)"
       ]
      }
     ],
     "prompt_number": 37
    },
    {
     "cell_type": "code",
     "collapsed": false,
     "input": [
      "fig, ax = subplots()\n",
      "ylabel('$\\lambda_{min}$' '$(pm)$', fontsize=20)\n",
      "xlabel('$1/U$ ($1/KV$)', fontsize=20)\n",
      "\n",
      "for i in range(len(lambda_min)):\n",
      "    \n",
      "    errorbar(U_INVERSO[i], lambda_min[i], xerr=err_x[i], yerr=err_lambda[i],capsize=29,color='g',fmt='o')\n",
      "x=arange(0.03, 0.0851,0.001)\n",
      "y=x*m+b\n",
      "xlim(0.03, 0.0851)\n",
      "plot(x, y, color='k')  \n",
      "pl.yticks([3.5*10**(-11),4.5*10**(-11),5.5*10**(-11),6.5*10**(-11)],\n",
      "          [r'$35$', r'$45$', r'$55$',r'$65$'],fontsize=20)\n",
      "pl.xticks([0.03,0.04,0.05,0.06,0.07,0.08],[r'$0.03$',r'$0.04$',r'$0.05$',r'$0.06$',r'$0.07$',r'$0.08$'], fontsize=20)\n",
      "ax.text(0.033, 6.5*10**(-11), r\"$r^2=0.98$\", fontsize=18, color=\"black\")\n",
      "ax.text(0.033, 7*10**(-11), r\"$y=6.881x+1.349$\", fontsize=18, color=\"black\")\n",
      "ax.legend(loc=2);\n",
      "ax.legend(loc=2);"
     ],
     "language": "python",
     "metadata": {},
     "outputs": [
      {
       "metadata": {},
       "output_type": "display_data",
       "png": "[encoded data removed]",
       "text": [
        "<matplotlib.figure.Figure at 0x7f10376fa9d0>"
       ]
      }
     ],
     "prompt_number": 41
    },
    {
     "cell_type": "code",
     "collapsed": false,
     "input": [
      "fig.savefig(\"lambda_min_VS_U_INV.png\")"
     ],
     "language": "python",
     "metadata": {},
     "outputs": [],
     "prompt_number": 42
    },
    {
     "cell_type": "code",
     "collapsed": false,
     "input": [
      "h=(1241.56*2*10**(-9))*(1.602*10**(-19))*(201.4*10**(-12))/(3*10**(8))\n",
      "h"
     ],
     "language": "python",
     "metadata": {},
     "outputs": [
      {
       "metadata": {},
       "output_type": "pyout",
       "prompt_number": 40,
       "text": [
        "2.67053596512e-43"
       ]
      }
     ],
     "prompt_number": 40
    },
    {
     "cell_type": "code",
     "collapsed": false,
     "input": [
      "\n",
      "\n"
     ],
     "language": "python",
     "metadata": {},
     "outputs": [],
     "prompt_number": 33
    },
    {
     "cell_type": "code",
     "collapsed": false,
     "input": [],
     "language": "python",
     "metadata": {},
     "outputs": [],
     "prompt_number": 69
    },
    {
     "cell_type": "code",
     "collapsed": false,
     "input": [],
     "language": "python",
     "metadata": {},
     "outputs": []
    }
   ],
   "metadata": {}
  }
 ]
}