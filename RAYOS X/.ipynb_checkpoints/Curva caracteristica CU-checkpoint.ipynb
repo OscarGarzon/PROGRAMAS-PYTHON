{
 "metadata": {
  "name": "",
  "signature": "sha256:04e5a85a691f68b42678eb72bb023492247de44c0003294c86751043ddc7fdf5"
 },
 "nbformat": 3,
 "nbformat_minor": 0,
 "worksheets": []
}