{
 "metadata": {
  "name": "",
  "signature": "sha256:4202db6768cdf39b700e0f1003f8012a9487d4c7dfa2f7ee44da84624098ba7c"
 },
 "nbformat": 3,
 "nbformat_minor": 0,
 "worksheets": [
  {
   "cells": [
    {
     "cell_type": "code",
     "collapsed": false,
     "input": [
      "# -*- coding: utf-8 -*-\n",
      "%pylab inline \n",
      "%pylab --no-import-all\n",
      "from matplotlib.pyplot import *\n",
      "from numpy import *\n",
      "import math\n",
      "from scipy import stats\n",
      "%matplotlib inline"
     ],
     "language": "python",
     "metadata": {},
     "outputs": [
      {
       "output_type": "stream",
       "stream": "stdout",
       "text": [
        "Populating the interactive namespace from numpy and matplotlib\n",
        "Using matplotlib backend: TkAgg\n",
        "Populating the interactive namespace from numpy and matplotlib\n"
       ]
      },
      {
       "output_type": "stream",
       "stream": "stderr",
       "text": [
        "WARNING: pylab import has clobbered these variables: ['draw_if_interactive', 'new_figure_manager']\n",
        "`%matplotlib` prevents importing * from pylab and numpy\n"
       ]
      }
     ],
     "prompt_number": 17
    },
    {
     "cell_type": "code",
     "collapsed": false,
     "input": [
      "U_INVERSO=[0.07692,0.06667,0.05882,0.05263,0.04762,0.04348]\n",
      "SEN_THETA=[0.405,0.403,0.401,0.4,0.398,0.397]"
     ],
     "language": "python",
     "metadata": {},
     "outputs": [],
     "prompt_number": 18
    },
    {
     "cell_type": "code",
     "collapsed": false,
     "input": [
      "#C\u00e1lculo de incertidumbres\n",
      "err_y=[]\n",
      "err_x=[]\n",
      "for i in range(len(SEN_THETA)):\n",
      "    theta=0\n",
      "    theta=math.asin(SEN_THETA[i])\n",
      "    error_y= abs(cos(theta)*0.00174533)\n",
      "    err_y.append(error_y)\n",
      "for i in range(len(U_INVERSO)):\n",
      "    error_x=((U_INVERSO[i])**2)*(3)\n",
      "    err_x.append(error_x)\n",
      "err_x  "
     ],
     "language": "python",
     "metadata": {},
     "outputs": [
      {
       "metadata": {},
       "output_type": "pyout",
       "prompt_number": 19,
       "text": [
        "[0.0177500592,\n",
        " 0.013334666699999997,\n",
        " 0.0103793772,\n",
        " 0.0083097507,\n",
        " 0.0068029932,\n",
        " 0.0056715312]"
       ]
      }
     ],
     "prompt_number": 19
    },
    {
     "cell_type": "code",
     "collapsed": false,
     "input": [
      "m, b, r_value, p_value, std_err = stats.linregress(U_INVERSO,SEN_THETA)\n",
      "m,b,r_value**2"
     ],
     "language": "python",
     "metadata": {},
     "outputs": [
      {
       "metadata": {},
       "output_type": "pyout",
       "prompt_number": 20,
       "text": [
        "(0.23953336916705073, 0.38684798659941949, 0.98802230957088466)"
       ]
      }
     ],
     "prompt_number": 20
    },
    {
     "cell_type": "code",
     "collapsed": false,
     "input": [
      "fig, ax = subplots()\n",
      "ylabel('$Sen(\\Theta)$', fontsize=18)\n",
      "xlabel('$1/U$ ($1/KV$)', fontsize=18)\n",
      "\n",
      "for i in range(len(SEN_THETA)):\n",
      "    errorbar(U_INVERSO[i], SEN_THETA[i], xerr=err_x[i], yerr=err_y[i], fmt='o')\n",
      "ax.set_title('$Sen(\\Theta)$ vs. $ 1/U$', fontsize=22)\n",
      "x=arange(0.03, 0.1,0.001)\n",
      "y=x*m+b\n",
      "xlim(0.022,0.097)\n",
      "ylim(0.395,0.410)\n",
      "plot(x, y)\n",
      "ax.text(0.025, 0.405, r\"$r^2=0.98$\", fontsize=18, color=\"black\")\n",
      "ax.text(0.025, 0.408, r\"$y=0.239x+0.3868$\", fontsize=18, color=\"black\")\n",
      "ax.legend(loc=2);\n",
      "ax.legend(loc=2);\n",
      "\n",
      "\n"
     ],
     "language": "python",
     "metadata": {},
     "outputs": [
      {
       "metadata": {},
       "output_type": "display_data",
       "png": "[encoded data removed]",
       "text": [
        "<matplotlib.figure.Figure at 0x7fdd3c33e490>"
       ]
      }
     ],
     "prompt_number": 38
    },
    {
     "cell_type": "code",
     "collapsed": false,
     "input": [
      "fig.savefig(\"SEN_THETA_VS_U_INV.png\")"
     ],
     "language": "python",
     "metadata": {},
     "outputs": [],
     "prompt_number": 36
    },
    {
     "cell_type": "code",
     "collapsed": false,
     "input": [],
     "language": "python",
     "metadata": {},
     "outputs": [],
     "prompt_number": 30
    },
    {
     "cell_type": "code",
     "collapsed": false,
     "input": [],
     "language": "python",
     "metadata": {},
     "outputs": [],
     "prompt_number": 30
    },
    {
     "cell_type": "code",
     "collapsed": false,
     "input": [],
     "language": "python",
     "metadata": {},
     "outputs": [],
     "prompt_number": 69
    },
    {
     "cell_type": "code",
     "collapsed": false,
     "input": [],
     "language": "python",
     "metadata": {},
     "outputs": []
    }
   ],
   "metadata": {}
  }
 ]
}