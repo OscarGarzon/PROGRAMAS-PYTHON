{
 "metadata": {
  "name": "",
  "signature": "sha256:be3470f80bc4c30678fef519649a769e111ba66163a088841f9cd2b79b50ee54"
 },
 "nbformat": 3,
 "nbformat_minor": 0,
 "worksheets": [
  {
   "cells": [
    {
     "cell_type": "code",
     "collapsed": false,
     "input": [
      "%pylab inline \n",
      "%pylab --no-import-all\n",
      "from matplotlib.pyplot import *\n",
      "from numpy import *\n",
      "import numpy as np\n",
      "import pylab as pl\n",
      "%matplotlib inline\n",
      "from scipy import stats"
     ],
     "language": "python",
     "metadata": {},
     "outputs": [
      {
       "output_type": "stream",
       "stream": "stdout",
       "text": [
        "Populating the interactive namespace from numpy and matplotlib\n",
        "Using matplotlib backend: TkAgg\n",
        "Populating the interactive namespace from numpy and matplotlib\n"
       ]
      },
      {
       "output_type": "stream",
       "stream": "stderr",
       "text": [
        "WARNING: pylab import has clobbered these variables: ['draw_if_interactive', 'new_figure_manager', 'e']\n",
        "`%matplotlib` prevents importing * from pylab and numpy\n"
       ]
      }
     ],
     "prompt_number": 141
    },
    {
     "cell_type": "code",
     "collapsed": false,
     "input": [
      "y=[667.8,656,587.6]\n",
      "x=[0.9,1.7,5.2]"
     ],
     "language": "python",
     "metadata": {},
     "outputs": [],
     "prompt_number": 152
    },
    {
     "cell_type": "code",
     "collapsed": false,
     "input": [
      "m, b, r_value, p_value, std_err = stats.linregress(x,y)\n",
      "print std_err"
     ],
     "language": "python",
     "metadata": {},
     "outputs": [
      {
       "output_type": "stream",
       "stream": "stdout",
       "text": [
        "0.740730460088\n"
       ]
      }
     ],
     "prompt_number": 153
    },
    {
     "cell_type": "code",
     "collapsed": false,
     "input": [
      "c=[]\n",
      "e=[]"
     ],
     "language": "python",
     "metadata": {},
     "outputs": [],
     "prompt_number": 144
    },
    {
     "cell_type": "code",
     "collapsed": false,
     "input": [
      "fig, ax = subplots()\n",
      "ylabel('$\\lambda$ $(nm)$', fontsize=18)\n",
      "xlabel('$X (U.A.)$', fontsize=18)\n",
      "err_y = 0\n",
      "err_x = 0.1\n",
      "errorbar(x, y, xerr=err_x, yerr=err_y, fmt='o',alpha=0.5)\n",
      "ax.set_title('Longitud de Onda vs. X', fontsize=18)\n",
      "plot\n",
      "c=arange(9,14,0.001)\n",
      "e=c*m+b\n",
      "xlim(9,14)\n",
      "ylim(400,500)\n",
      "ax.text(11, 480, r\"$r^2=1$\", fontsize=18, color=\"black\")\n",
      "ax.text(11, 490, r\"$y=-8.0666x+551.96$\", fontsize=18, color=\"black\")\n",
      "ax.legend(loc=2);\n",
      "plot(c,e)"
     ],
     "language": "python",
     "metadata": {},
     "outputs": [
      {
       "metadata": {},
       "output_type": "pyout",
       "prompt_number": 148,
       "text": [
        "[<matplotlib.lines.Line2D at 0x7f7da2ee7610>]"
       ]
      },
      {
       "metadata": {},
       "output_type": "display_data",
       "png": "[encoded data removed]",
       "text": [
        "<matplotlib.figure.Figure at 0x7f7da3604f10>"
       ]
      }
     ],
     "prompt_number": 148
    },
    {
     "cell_type": "code",
     "collapsed": false,
     "input": [
      "fig.savefig(\"regresionHe3.png\")"
     ],
     "language": "python",
     "metadata": {},
     "outputs": [],
     "prompt_number": 149
    },
    {
     "cell_type": "code",
     "collapsed": false,
     "input": [
      "\n"
     ],
     "language": "python",
     "metadata": {},
     "outputs": [],
     "prompt_number": 116
    },
    {
     "cell_type": "code",
     "collapsed": false,
     "input": [],
     "language": "python",
     "metadata": {},
     "outputs": [],
     "prompt_number": 42
    },
    {
     "cell_type": "code",
     "collapsed": false,
     "input": [],
     "language": "python",
     "metadata": {},
     "outputs": []
    }
   ],
   "metadata": {}
  }
 ]
}