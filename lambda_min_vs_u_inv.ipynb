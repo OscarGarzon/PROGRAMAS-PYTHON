{
 "metadata": {
  "name": "",
  "signature": "sha256:359262333a29d2f5968f0410ad0a33761108e303b36f396cc5de1396d135fa9d"
 },
 "nbformat": 3,
 "nbformat_minor": 0,
 "worksheets": [
  {
   "cells": [
    {
     "cell_type": "code",
     "collapsed": false,
     "input": [
      "# -*- coding: utf-8 -*-\n",
      "%pylab inline \n",
      "import numpy as np\n",
      "%pylab --no-import-all\n",
      "from matplotlib.pyplot import *\n",
      "from numpy import *\n",
      "import math\n",
      "from scipy import stats\n",
      "%matplotlib inline\n",
      "figsize(10,10)"
     ],
     "language": "python",
     "metadata": {},
     "outputs": [
      {
       "output_type": "stream",
       "stream": "stdout",
       "text": [
        "Populating the interactive namespace from numpy and matplotlib\n",
        "Using matplotlib backend: TkAgg\n",
        "Populating the interactive namespace from numpy and matplotlib\n"
       ]
      },
      {
       "output_type": "stream",
       "stream": "stderr",
       "text": [
        "WARNING: pylab import has clobbered these variables: ['draw_if_interactive', 'new_figure_manager']\n",
        "`%matplotlib` prevents importing * from pylab and numpy\n"
       ]
      }
     ],
     "prompt_number": 69
    },
    {
     "cell_type": "code",
     "collapsed": false,
     "input": [
      "#Se importan datos\n",
      "data = np.loadtxt(\"lambda_min_vs_u_inverso.txt\")\n",
      "U_INVERSO=data[:,0]\n",
      "lambda_min= data[:,1]"
     ],
     "language": "python",
     "metadata": {},
     "outputs": [],
     "prompt_number": 70
    },
    {
     "cell_type": "code",
     "collapsed": false,
     "input": [
      "#C\u00e1lculo de incertidumbres\n",
      "err_y=[]\n",
      "err_x=[]\n",
      "for i in range(len(lambda_min)):\n",
      "    d=201.4\n",
      "    m=1.708396415736378\n",
      "    delta_m=0.090164726661323025\n",
      "    error_y= math.sqrt((4*(d**2)*(m**2)*((U_INVERSO[i])**4)*(0.1**2))+(4*(d**2)*((U_INVERSO[i])**2)*(delta_m)**2))\n",
      "    err_y.append(error_y)\n",
      "for i in range(len(U_INVERSO)):\n",
      "    error_x=((U_INVERSO[i])**2)*(0.1)\n",
      "    err_x.append(error_x)\n",
      "err_y"
     ],
     "language": "python",
     "metadata": {},
     "outputs": [
      {
       "metadata": {},
       "output_type": "pyout",
       "prompt_number": 71,
       "text": [
        "[1.4569004451624652,\n",
        " 1.584471692896097,\n",
        " 1.7365055761742216,\n",
        " 2.1494715894988796,\n",
        " 1.9209152139923256,\n",
        " 2.440587361504417,\n",
        " 2.823121747488713]"
       ]
      }
     ],
     "prompt_number": 71
    },
    {
     "cell_type": "code",
     "collapsed": false,
     "input": [
      "m, b, r_value, p_value, std_err = stats.linregress(U_INVERSO,lambda_min)\n",
      "m,b,r_value**2"
     ],
     "language": "python",
     "metadata": {},
     "outputs": [
      {
       "metadata": {},
       "output_type": "pyout",
       "prompt_number": 72,
       "text": [
        "(8875.3621197114808, -285.30461841505587, 0.93426287565286004)"
       ]
      }
     ],
     "prompt_number": 72
    },
    {
     "cell_type": "code",
     "collapsed": false,
     "input": [
      "fig, ax = subplots()\n",
      "ylabel('$\\lambda_{min}$' '$(pm)$', fontsize=20)\n",
      "xlabel('$1/U$ ($1/KV$)', fontsize=20)\n",
      "\n",
      "for i in range(len(lambda_min)):\n",
      "    \n",
      "    errorbar(U_INVERSO[i], lambda_min[i], xerr=err_x[i], yerr=err_y[i],capsize=15,color='#a020f0',fmt='o')\n",
      "scatter(U_INVERSO, lambda_min,s=2)\n",
      "x=arange(0.03, 0.0851,0.001)\n",
      "y=x*m+b\n",
      "xlim(0.02, 0.09)\n",
      "plot(x, y, color='#191970')\n",
      "ax.text(0.025, 400, r\"$r^2=0.98$\", fontsize=18, color=\"black\")\n",
      "ax.text(0.025, 450, r\"$y=1.7083x+0.0335$\", fontsize=18, color=\"black\")\n",
      "ax.legend(loc=2);\n",
      "ax.legend(loc=2);\n",
      "\n",
      "\n"
     ],
     "language": "python",
     "metadata": {},
     "outputs": [
      {
       "metadata": {},
       "output_type": "display_data",
       "png": "[encoded data removed]",
       "text": [
        "<matplotlib.figure.Figure at 0x7f8aaf4b4190>"
       ]
      }
     ],
     "prompt_number": 73
    },
    {
     "cell_type": "code",
     "collapsed": false,
     "input": [
      "fig.savefig(\"lambda_min_VS_U_INV.png\")"
     ],
     "language": "python",
     "metadata": {},
     "outputs": [],
     "prompt_number": 74
    },
    {
     "cell_type": "code",
     "collapsed": false,
     "input": [],
     "language": "python",
     "metadata": {},
     "outputs": [],
     "prompt_number": 6
    },
    {
     "cell_type": "code",
     "collapsed": false,
     "input": [],
     "language": "python",
     "metadata": {},
     "outputs": [],
     "prompt_number": 30
    },
    {
     "cell_type": "code",
     "collapsed": false,
     "input": [],
     "language": "python",
     "metadata": {},
     "outputs": [],
     "prompt_number": 69
    },
    {
     "cell_type": "code",
     "collapsed": false,
     "input": [],
     "language": "python",
     "metadata": {},
     "outputs": []
    }
   ],
   "metadata": {}
  }
 ]
}